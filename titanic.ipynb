{
 "cells": [
  {
   "cell_type": "code",
   "execution_count": 1,
   "id": "4bdee546",
   "metadata": {
    "_cell_guid": "b1076dfc-b9ad-4769-8c92-a6c4dae69d19",
    "_uuid": "8f2839f25d086af736a60e9eeb907d3b93b6e0e5",
    "execution": {
     "iopub.execute_input": "2023-04-17T08:48:49.469089Z",
     "iopub.status.busy": "2023-04-17T08:48:49.468333Z",
     "iopub.status.idle": "2023-04-17T08:48:51.525053Z",
     "shell.execute_reply": "2023-04-17T08:48:51.523661Z"
    },
    "papermill": {
     "duration": 2.073586,
     "end_time": "2023-04-17T08:48:51.528291",
     "exception": false,
     "start_time": "2023-04-17T08:48:49.454705",
     "status": "completed"
    },
    "tags": []
   },
   "outputs": [],
   "source": [
    "import numpy as np\n",
    "import pandas as pd\n",
    "from matplotlib import pyplot as plt\n",
    "import seaborn as sns\n",
    "import warnings\n",
    "from sklearn.ensemble import RandomForestClassifier\n",
    "from sklearn.preprocessing import LabelEncoder\n",
    "from sklearn.linear_model import LogisticRegression, Perceptron, SGDClassifier\n",
    "from sklearn.svm import SVC, LinearSVC\n",
    "from sklearn.neighbors import KNeighborsClassifier\n",
    "from sklearn.naive_bayes import GaussianNB\n",
    "from sklearn.tree import DecisionTreeClassifier\n",
    "from sklearn.ensemble import RandomForestClassifier"
   ]
  },
  {
   "cell_type": "code",
   "execution_count": 2,
   "id": "359676ed",
   "metadata": {
    "execution": {
     "iopub.execute_input": "2023-04-17T08:48:51.551327Z",
     "iopub.status.busy": "2023-04-17T08:48:51.550930Z",
     "iopub.status.idle": "2023-04-17T08:48:51.614259Z",
     "shell.execute_reply": "2023-04-17T08:48:51.612878Z"
    },
    "papermill": {
     "duration": 0.078177,
     "end_time": "2023-04-17T08:48:51.617202",
     "exception": false,
     "start_time": "2023-04-17T08:48:51.539025",
     "status": "completed"
    },
    "tags": []
   },
   "outputs": [
    {
     "data": {
      "text/html": [
       "<div>\n",
       "<style scoped>\n",
       "    .dataframe tbody tr th:only-of-type {\n",
       "        vertical-align: middle;\n",
       "    }\n",
       "\n",
       "    .dataframe tbody tr th {\n",
       "        vertical-align: top;\n",
       "    }\n",
       "\n",
       "    .dataframe thead th {\n",
       "        text-align: right;\n",
       "    }\n",
       "</style>\n",
       "<table border=\"1\" class=\"dataframe\">\n",
       "  <thead>\n",
       "    <tr style=\"text-align: right;\">\n",
       "      <th></th>\n",
       "      <th>PassengerId</th>\n",
       "      <th>Survived</th>\n",
       "      <th>Pclass</th>\n",
       "      <th>Name</th>\n",
       "      <th>Sex</th>\n",
       "      <th>Age</th>\n",
       "      <th>SibSp</th>\n",
       "      <th>Parch</th>\n",
       "      <th>Ticket</th>\n",
       "      <th>Fare</th>\n",
       "      <th>Cabin</th>\n",
       "      <th>Embarked</th>\n",
       "    </tr>\n",
       "  </thead>\n",
       "  <tbody>\n",
       "    <tr>\n",
       "      <th>0</th>\n",
       "      <td>1</td>\n",
       "      <td>0</td>\n",
       "      <td>3</td>\n",
       "      <td>Braund, Mr. Owen Harris</td>\n",
       "      <td>male</td>\n",
       "      <td>22.0</td>\n",
       "      <td>1</td>\n",
       "      <td>0</td>\n",
       "      <td>A/5 21171</td>\n",
       "      <td>7.2500</td>\n",
       "      <td>NaN</td>\n",
       "      <td>S</td>\n",
       "    </tr>\n",
       "    <tr>\n",
       "      <th>1</th>\n",
       "      <td>2</td>\n",
       "      <td>1</td>\n",
       "      <td>1</td>\n",
       "      <td>Cumings, Mrs. John Bradley (Florence Briggs Th...</td>\n",
       "      <td>female</td>\n",
       "      <td>38.0</td>\n",
       "      <td>1</td>\n",
       "      <td>0</td>\n",
       "      <td>PC 17599</td>\n",
       "      <td>71.2833</td>\n",
       "      <td>C85</td>\n",
       "      <td>C</td>\n",
       "    </tr>\n",
       "    <tr>\n",
       "      <th>2</th>\n",
       "      <td>3</td>\n",
       "      <td>1</td>\n",
       "      <td>3</td>\n",
       "      <td>Heikkinen, Miss. Laina</td>\n",
       "      <td>female</td>\n",
       "      <td>26.0</td>\n",
       "      <td>0</td>\n",
       "      <td>0</td>\n",
       "      <td>STON/O2. 3101282</td>\n",
       "      <td>7.9250</td>\n",
       "      <td>NaN</td>\n",
       "      <td>S</td>\n",
       "    </tr>\n",
       "    <tr>\n",
       "      <th>3</th>\n",
       "      <td>4</td>\n",
       "      <td>1</td>\n",
       "      <td>1</td>\n",
       "      <td>Futrelle, Mrs. Jacques Heath (Lily May Peel)</td>\n",
       "      <td>female</td>\n",
       "      <td>35.0</td>\n",
       "      <td>1</td>\n",
       "      <td>0</td>\n",
       "      <td>113803</td>\n",
       "      <td>53.1000</td>\n",
       "      <td>C123</td>\n",
       "      <td>S</td>\n",
       "    </tr>\n",
       "    <tr>\n",
       "      <th>4</th>\n",
       "      <td>5</td>\n",
       "      <td>0</td>\n",
       "      <td>3</td>\n",
       "      <td>Allen, Mr. William Henry</td>\n",
       "      <td>male</td>\n",
       "      <td>35.0</td>\n",
       "      <td>0</td>\n",
       "      <td>0</td>\n",
       "      <td>373450</td>\n",
       "      <td>8.0500</td>\n",
       "      <td>NaN</td>\n",
       "      <td>S</td>\n",
       "    </tr>\n",
       "  </tbody>\n",
       "</table>\n",
       "</div>"
      ],
      "text/plain": [
       "   PassengerId  Survived  Pclass  \\\n",
       "0            1         0       3   \n",
       "1            2         1       1   \n",
       "2            3         1       3   \n",
       "3            4         1       1   \n",
       "4            5         0       3   \n",
       "\n",
       "                                                Name     Sex   Age  SibSp  \\\n",
       "0                            Braund, Mr. Owen Harris    male  22.0      1   \n",
       "1  Cumings, Mrs. John Bradley (Florence Briggs Th...  female  38.0      1   \n",
       "2                             Heikkinen, Miss. Laina  female  26.0      0   \n",
       "3       Futrelle, Mrs. Jacques Heath (Lily May Peel)  female  35.0      1   \n",
       "4                           Allen, Mr. William Henry    male  35.0      0   \n",
       "\n",
       "   Parch            Ticket     Fare Cabin Embarked  \n",
       "0      0         A/5 21171   7.2500   NaN        S  \n",
       "1      0          PC 17599  71.2833   C85        C  \n",
       "2      0  STON/O2. 3101282   7.9250   NaN        S  \n",
       "3      0            113803  53.1000  C123        S  \n",
       "4      0            373450   8.0500   NaN        S  "
      ]
     },
     "execution_count": 2,
     "metadata": {},
     "output_type": "execute_result"
    }
   ],
   "source": [
    "warnings.filterwarnings(\"ignore\") \n",
    "data = pd.read_csv('/kaggle/input/titanic/train.csv')\n",
    "test = pd.read_csv('/kaggle/input/titanic/test.csv')\n",
    "data.head()"
   ]
  },
  {
   "cell_type": "code",
   "execution_count": 3,
   "id": "4ce55142",
   "metadata": {
    "execution": {
     "iopub.execute_input": "2023-04-17T08:48:51.641238Z",
     "iopub.status.busy": "2023-04-17T08:48:51.640824Z",
     "iopub.status.idle": "2023-04-17T08:48:51.646527Z",
     "shell.execute_reply": "2023-04-17T08:48:51.645564Z"
    },
    "papermill": {
     "duration": 0.020674,
     "end_time": "2023-04-17T08:48:51.648850",
     "exception": false,
     "start_time": "2023-04-17T08:48:51.628176",
     "status": "completed"
    },
    "tags": []
   },
   "outputs": [
    {
     "name": "stdout",
     "output_type": "stream",
     "text": [
      "['PassengerId' 'Survived' 'Pclass' 'Name' 'Sex' 'Age' 'SibSp' 'Parch'\n",
      " 'Ticket' 'Fare' 'Cabin' 'Embarked']\n"
     ]
    }
   ],
   "source": [
    "print(data.columns.values)\n",
    "# Categorical:\n",
    "# 可分類: Survived, Sex, Embarked\n",
    "# 可排序： Pclass,\n",
    "# Numerical:\n",
    "# 連續： Fare\n",
    "# 間斷： Age, SibSp, Parch\n",
    "# Other: \n",
    "# 不重複：PassengerId, Name,\n",
    "# Ticket, Cabin"
   ]
  },
  {
   "cell_type": "code",
   "execution_count": 4,
   "id": "c4c1a574",
   "metadata": {
    "execution": {
     "iopub.execute_input": "2023-04-17T08:48:51.675274Z",
     "iopub.status.busy": "2023-04-17T08:48:51.674417Z",
     "iopub.status.idle": "2023-04-17T08:48:51.702317Z",
     "shell.execute_reply": "2023-04-17T08:48:51.700029Z"
    },
    "papermill": {
     "duration": 0.045224,
     "end_time": "2023-04-17T08:48:51.705450",
     "exception": false,
     "start_time": "2023-04-17T08:48:51.660226",
     "status": "completed"
    },
    "tags": []
   },
   "outputs": [
    {
     "name": "stdout",
     "output_type": "stream",
     "text": [
      "<class 'pandas.core.frame.DataFrame'>\n",
      "RangeIndex: 891 entries, 0 to 890\n",
      "Data columns (total 12 columns):\n",
      " #   Column       Non-Null Count  Dtype  \n",
      "---  ------       --------------  -----  \n",
      " 0   PassengerId  891 non-null    int64  \n",
      " 1   Survived     891 non-null    int64  \n",
      " 2   Pclass       891 non-null    int64  \n",
      " 3   Name         891 non-null    object \n",
      " 4   Sex          891 non-null    object \n",
      " 5   Age          714 non-null    float64\n",
      " 6   SibSp        891 non-null    int64  \n",
      " 7   Parch        891 non-null    int64  \n",
      " 8   Ticket       891 non-null    object \n",
      " 9   Fare         891 non-null    float64\n",
      " 10  Cabin        204 non-null    object \n",
      " 11  Embarked     889 non-null    object \n",
      "dtypes: float64(2), int64(5), object(5)\n",
      "memory usage: 83.7+ KB\n"
     ]
    }
   ],
   "source": [
    "data.info()\n",
    "# Train data中，Age, Cabin, Embarked 有缺失值"
   ]
  },
  {
   "cell_type": "code",
   "execution_count": 5,
   "id": "d420a097",
   "metadata": {
    "execution": {
     "iopub.execute_input": "2023-04-17T08:48:51.730079Z",
     "iopub.status.busy": "2023-04-17T08:48:51.729662Z",
     "iopub.status.idle": "2023-04-17T08:48:51.745716Z",
     "shell.execute_reply": "2023-04-17T08:48:51.744272Z"
    },
    "papermill": {
     "duration": 0.031621,
     "end_time": "2023-04-17T08:48:51.748305",
     "exception": false,
     "start_time": "2023-04-17T08:48:51.716684",
     "status": "completed"
    },
    "tags": []
   },
   "outputs": [
    {
     "name": "stdout",
     "output_type": "stream",
     "text": [
      "<class 'pandas.core.frame.DataFrame'>\n",
      "RangeIndex: 418 entries, 0 to 417\n",
      "Data columns (total 11 columns):\n",
      " #   Column       Non-Null Count  Dtype  \n",
      "---  ------       --------------  -----  \n",
      " 0   PassengerId  418 non-null    int64  \n",
      " 1   Pclass       418 non-null    int64  \n",
      " 2   Name         418 non-null    object \n",
      " 3   Sex          418 non-null    object \n",
      " 4   Age          332 non-null    float64\n",
      " 5   SibSp        418 non-null    int64  \n",
      " 6   Parch        418 non-null    int64  \n",
      " 7   Ticket       418 non-null    object \n",
      " 8   Fare         417 non-null    float64\n",
      " 9   Cabin        91 non-null     object \n",
      " 10  Embarked     418 non-null    object \n",
      "dtypes: float64(2), int64(4), object(5)\n",
      "memory usage: 36.0+ KB\n"
     ]
    }
   ],
   "source": [
    "test.info()\n",
    "# Test data中，Age, Cabin, Fare 有缺失值"
   ]
  },
  {
   "cell_type": "code",
   "execution_count": 6,
   "id": "9012d31f",
   "metadata": {
    "execution": {
     "iopub.execute_input": "2023-04-17T08:48:51.773685Z",
     "iopub.status.busy": "2023-04-17T08:48:51.773206Z",
     "iopub.status.idle": "2023-04-17T08:48:51.812059Z",
     "shell.execute_reply": "2023-04-17T08:48:51.810651Z"
    },
    "papermill": {
     "duration": 0.054849,
     "end_time": "2023-04-17T08:48:51.814843",
     "exception": false,
     "start_time": "2023-04-17T08:48:51.759994",
     "status": "completed"
    },
    "tags": []
   },
   "outputs": [
    {
     "data": {
      "text/html": [
       "<div>\n",
       "<style scoped>\n",
       "    .dataframe tbody tr th:only-of-type {\n",
       "        vertical-align: middle;\n",
       "    }\n",
       "\n",
       "    .dataframe tbody tr th {\n",
       "        vertical-align: top;\n",
       "    }\n",
       "\n",
       "    .dataframe thead th {\n",
       "        text-align: right;\n",
       "    }\n",
       "</style>\n",
       "<table border=\"1\" class=\"dataframe\">\n",
       "  <thead>\n",
       "    <tr style=\"text-align: right;\">\n",
       "      <th></th>\n",
       "      <th>PassengerId</th>\n",
       "      <th>Survived</th>\n",
       "      <th>Pclass</th>\n",
       "      <th>Age</th>\n",
       "      <th>SibSp</th>\n",
       "      <th>Parch</th>\n",
       "      <th>Fare</th>\n",
       "    </tr>\n",
       "  </thead>\n",
       "  <tbody>\n",
       "    <tr>\n",
       "      <th>count</th>\n",
       "      <td>891.000000</td>\n",
       "      <td>891.000000</td>\n",
       "      <td>891.000000</td>\n",
       "      <td>714.000000</td>\n",
       "      <td>891.000000</td>\n",
       "      <td>891.000000</td>\n",
       "      <td>891.000000</td>\n",
       "    </tr>\n",
       "    <tr>\n",
       "      <th>mean</th>\n",
       "      <td>446.000000</td>\n",
       "      <td>0.383838</td>\n",
       "      <td>2.308642</td>\n",
       "      <td>29.699118</td>\n",
       "      <td>0.523008</td>\n",
       "      <td>0.381594</td>\n",
       "      <td>32.204208</td>\n",
       "    </tr>\n",
       "    <tr>\n",
       "      <th>std</th>\n",
       "      <td>257.353842</td>\n",
       "      <td>0.486592</td>\n",
       "      <td>0.836071</td>\n",
       "      <td>14.526497</td>\n",
       "      <td>1.102743</td>\n",
       "      <td>0.806057</td>\n",
       "      <td>49.693429</td>\n",
       "    </tr>\n",
       "    <tr>\n",
       "      <th>min</th>\n",
       "      <td>1.000000</td>\n",
       "      <td>0.000000</td>\n",
       "      <td>1.000000</td>\n",
       "      <td>0.420000</td>\n",
       "      <td>0.000000</td>\n",
       "      <td>0.000000</td>\n",
       "      <td>0.000000</td>\n",
       "    </tr>\n",
       "    <tr>\n",
       "      <th>25%</th>\n",
       "      <td>223.500000</td>\n",
       "      <td>0.000000</td>\n",
       "      <td>2.000000</td>\n",
       "      <td>20.125000</td>\n",
       "      <td>0.000000</td>\n",
       "      <td>0.000000</td>\n",
       "      <td>7.910400</td>\n",
       "    </tr>\n",
       "    <tr>\n",
       "      <th>50%</th>\n",
       "      <td>446.000000</td>\n",
       "      <td>0.000000</td>\n",
       "      <td>3.000000</td>\n",
       "      <td>28.000000</td>\n",
       "      <td>0.000000</td>\n",
       "      <td>0.000000</td>\n",
       "      <td>14.454200</td>\n",
       "    </tr>\n",
       "    <tr>\n",
       "      <th>75%</th>\n",
       "      <td>668.500000</td>\n",
       "      <td>1.000000</td>\n",
       "      <td>3.000000</td>\n",
       "      <td>38.000000</td>\n",
       "      <td>1.000000</td>\n",
       "      <td>0.000000</td>\n",
       "      <td>31.000000</td>\n",
       "    </tr>\n",
       "    <tr>\n",
       "      <th>max</th>\n",
       "      <td>891.000000</td>\n",
       "      <td>1.000000</td>\n",
       "      <td>3.000000</td>\n",
       "      <td>80.000000</td>\n",
       "      <td>8.000000</td>\n",
       "      <td>6.000000</td>\n",
       "      <td>512.329200</td>\n",
       "    </tr>\n",
       "  </tbody>\n",
       "</table>\n",
       "</div>"
      ],
      "text/plain": [
       "       PassengerId    Survived      Pclass         Age       SibSp  \\\n",
       "count   891.000000  891.000000  891.000000  714.000000  891.000000   \n",
       "mean    446.000000    0.383838    2.308642   29.699118    0.523008   \n",
       "std     257.353842    0.486592    0.836071   14.526497    1.102743   \n",
       "min       1.000000    0.000000    1.000000    0.420000    0.000000   \n",
       "25%     223.500000    0.000000    2.000000   20.125000    0.000000   \n",
       "50%     446.000000    0.000000    3.000000   28.000000    0.000000   \n",
       "75%     668.500000    1.000000    3.000000   38.000000    1.000000   \n",
       "max     891.000000    1.000000    3.000000   80.000000    8.000000   \n",
       "\n",
       "            Parch        Fare  \n",
       "count  891.000000  891.000000  \n",
       "mean     0.381594   32.204208  \n",
       "std      0.806057   49.693429  \n",
       "min      0.000000    0.000000  \n",
       "25%      0.000000    7.910400  \n",
       "50%      0.000000   14.454200  \n",
       "75%      0.000000   31.000000  \n",
       "max      6.000000  512.329200  "
      ]
     },
     "execution_count": 6,
     "metadata": {},
     "output_type": "execute_result"
    }
   ],
   "source": [
    "data.describe()\n",
    "# Train data共有891位樣本，而總登船人數為2224人，樣本占總值之40%\n",
    "# Train data中存活率為0.38，而總登船的2224人中有1502位死亡，母體存活率為0.32，低於樣本存活率\n",
    "#多數乘客並未和家人同行"
   ]
  },
  {
   "cell_type": "code",
   "execution_count": 7,
   "id": "fd59ebac",
   "metadata": {
    "execution": {
     "iopub.execute_input": "2023-04-17T08:48:51.839635Z",
     "iopub.status.busy": "2023-04-17T08:48:51.839148Z",
     "iopub.status.idle": "2023-04-17T08:48:52.129673Z",
     "shell.execute_reply": "2023-04-17T08:48:52.128318Z"
    },
    "papermill": {
     "duration": 0.306168,
     "end_time": "2023-04-17T08:48:52.132418",
     "exception": false,
     "start_time": "2023-04-17T08:48:51.826250",
     "status": "completed"
    },
    "tags": []
   },
   "outputs": [
    {
     "data": {
      "text/plain": [
       "(array([732., 106.,  31.,   2.,  11.,   6.,   0.,   0.,   0.,   3.]),\n",
       " array([  0.     ,  51.23292, 102.46584, 153.69876, 204.93168, 256.1646 ,\n",
       "        307.39752, 358.63044, 409.86336, 461.09628, 512.3292 ]),\n",
       " <BarContainer object of 10 artists>)"
      ]
     },
     "execution_count": 7,
     "metadata": {},
     "output_type": "execute_result"
    },
    {
     "data": {
      "image/png": "[encoded data removed]",
      "text/plain": [
       "<Figure size 640x480 with 1 Axes>"
      ]
     },
     "metadata": {},
     "output_type": "display_data"
    }
   ],
   "source": [
    "#票價分佈\n",
    "plt.hist(data['Fare'])"
   ]
  },
  {
   "cell_type": "code",
   "execution_count": 8,
   "id": "b4360601",
   "metadata": {
    "execution": {
     "iopub.execute_input": "2023-04-17T08:48:52.159728Z",
     "iopub.status.busy": "2023-04-17T08:48:52.158543Z",
     "iopub.status.idle": "2023-04-17T08:48:52.429762Z",
     "shell.execute_reply": "2023-04-17T08:48:52.428490Z"
    },
    "papermill": {
     "duration": 0.287708,
     "end_time": "2023-04-17T08:48:52.432408",
     "exception": false,
     "start_time": "2023-04-17T08:48:52.144700",
     "status": "completed"
    },
    "tags": []
   },
   "outputs": [
    {
     "data": {
      "text/plain": [
       "(array([ 54.,  46., 177., 169., 118.,  70.,  45.,  24.,   9.,   2.]),\n",
       " array([ 0.42 ,  8.378, 16.336, 24.294, 32.252, 40.21 , 48.168, 56.126,\n",
       "        64.084, 72.042, 80.   ]),\n",
       " <BarContainer object of 10 artists>)"
      ]
     },
     "execution_count": 8,
     "metadata": {},
     "output_type": "execute_result"
    },
    {
     "data": {
      "image/png": "[encoded data removed]",
      "text/plain": [
       "<Figure size 640x480 with 1 Axes>"
      ]
     },
     "metadata": {},
     "output_type": "display_data"
    }
   ],
   "source": [
    "#年齡分佈\n",
    "plt.hist(data['Age'])"
   ]
  },
  {
   "cell_type": "code",
   "execution_count": 9,
   "id": "8f899d2c",
   "metadata": {
    "execution": {
     "iopub.execute_input": "2023-04-17T08:48:52.460586Z",
     "iopub.status.busy": "2023-04-17T08:48:52.460181Z",
     "iopub.status.idle": "2023-04-17T08:48:52.484227Z",
     "shell.execute_reply": "2023-04-17T08:48:52.482887Z"
    },
    "papermill": {
     "duration": 0.040404,
     "end_time": "2023-04-17T08:48:52.486927",
     "exception": false,
     "start_time": "2023-04-17T08:48:52.446523",
     "status": "completed"
    },
    "tags": []
   },
   "outputs": [
    {
     "data": {
      "text/html": [
       "<div>\n",
       "<style scoped>\n",
       "    .dataframe tbody tr th:only-of-type {\n",
       "        vertical-align: middle;\n",
       "    }\n",
       "\n",
       "    .dataframe tbody tr th {\n",
       "        vertical-align: top;\n",
       "    }\n",
       "\n",
       "    .dataframe thead th {\n",
       "        text-align: right;\n",
       "    }\n",
       "</style>\n",
       "<table border=\"1\" class=\"dataframe\">\n",
       "  <thead>\n",
       "    <tr style=\"text-align: right;\">\n",
       "      <th></th>\n",
       "      <th>Name</th>\n",
       "      <th>Sex</th>\n",
       "      <th>Ticket</th>\n",
       "      <th>Cabin</th>\n",
       "      <th>Embarked</th>\n",
       "    </tr>\n",
       "  </thead>\n",
       "  <tbody>\n",
       "    <tr>\n",
       "      <th>count</th>\n",
       "      <td>891</td>\n",
       "      <td>891</td>\n",
       "      <td>891</td>\n",
       "      <td>204</td>\n",
       "      <td>889</td>\n",
       "    </tr>\n",
       "    <tr>\n",
       "      <th>unique</th>\n",
       "      <td>891</td>\n",
       "      <td>2</td>\n",
       "      <td>681</td>\n",
       "      <td>147</td>\n",
       "      <td>3</td>\n",
       "    </tr>\n",
       "    <tr>\n",
       "      <th>top</th>\n",
       "      <td>Braund, Mr. Owen Harris</td>\n",
       "      <td>male</td>\n",
       "      <td>347082</td>\n",
       "      <td>B96 B98</td>\n",
       "      <td>S</td>\n",
       "    </tr>\n",
       "    <tr>\n",
       "      <th>freq</th>\n",
       "      <td>1</td>\n",
       "      <td>577</td>\n",
       "      <td>7</td>\n",
       "      <td>4</td>\n",
       "      <td>644</td>\n",
       "    </tr>\n",
       "  </tbody>\n",
       "</table>\n",
       "</div>"
      ],
      "text/plain": [
       "                           Name   Sex  Ticket    Cabin Embarked\n",
       "count                       891   891     891      204      889\n",
       "unique                      891     2     681      147        3\n",
       "top     Braund, Mr. Owen Harris  male  347082  B96 B98        S\n",
       "freq                          1   577       7        4      644"
      ]
     },
     "execution_count": 9,
     "metadata": {},
     "output_type": "execute_result"
    }
   ],
   "source": [
    "#data.describe()預設只計算數值型統計量，data.describe(include='O')則會計算非數值型之統計量\n",
    "data.describe(include='O')\n",
    "#沒有同名同姓的乘客\n",
    "#男性577人，大於共314人的女性\n",
    "#有共同購票與共用客艙的情形。共同購票之比例為23%，共用客艙之比例為28%\n",
    "#多數人自Southampton上船，共計佔樣本的72％"
   ]
  },
  {
   "cell_type": "code",
   "execution_count": 10,
   "id": "66b6cdbb",
   "metadata": {
    "execution": {
     "iopub.execute_input": "2023-04-17T08:48:52.513823Z",
     "iopub.status.busy": "2023-04-17T08:48:52.513380Z",
     "iopub.status.idle": "2023-04-17T08:48:52.562780Z",
     "shell.execute_reply": "2023-04-17T08:48:52.561426Z"
    },
    "papermill": {
     "duration": 0.066308,
     "end_time": "2023-04-17T08:48:52.565613",
     "exception": false,
     "start_time": "2023-04-17T08:48:52.499305",
     "status": "completed"
    },
    "tags": []
   },
   "outputs": [
    {
     "name": "stdout",
     "output_type": "stream",
     "text": [
      "      Sex  Survived\n",
      "0  female  0.742038\n",
      "1    male  0.188908\n",
      "\n",
      "   Pclass  Survived\n",
      "0       1  0.629630\n",
      "1       2  0.472826\n",
      "2       3  0.242363\n",
      "\n",
      "      Sex  Pclass  Survived\n",
      "0  female       1  0.968085\n",
      "1  female       2  0.921053\n",
      "2  female       3  0.500000\n",
      "3    male       1  0.368852\n",
      "4    male       2  0.157407\n",
      "5    male       3  0.135447\n",
      "\n",
      "   SibSp  Survived\n",
      "1      1  0.535885\n",
      "2      2  0.464286\n",
      "0      0  0.345395\n",
      "3      3  0.250000\n",
      "4      4  0.166667\n",
      "5      5  0.000000\n",
      "6      8  0.000000\n",
      "\n",
      "   Parch  Survived\n",
      "3      3  0.600000\n",
      "1      1  0.550847\n",
      "2      2  0.500000\n",
      "0      0  0.343658\n",
      "5      5  0.200000\n",
      "4      4  0.000000\n",
      "6      6  0.000000\n",
      "\n",
      "   Family  Survived\n",
      "3       3  0.724138\n",
      "2       2  0.578431\n",
      "1       1  0.552795\n",
      "6       6  0.333333\n",
      "0       0  0.303538\n",
      "4       4  0.200000\n",
      "5       5  0.136364\n",
      "7       7  0.000000\n",
      "8      10  0.000000\n",
      "\n",
      "  Embarked  Survived\n",
      "0        C  0.553571\n",
      "1        Q  0.389610\n",
      "2        S  0.336957\n"
     ]
    }
   ],
   "source": [
    "# 性別與存活率之關係\n",
    "print(data[['Sex', 'Survived']].groupby(['Sex'], as_index=False).mean().sort_values(by='Survived', ascending=False))\n",
    "print('')\n",
    "# 階級與存活率之關係\n",
    "print(data[['Pclass', 'Survived']].groupby(['Pclass'], as_index=False).mean().sort_values(by='Survived', ascending=False))\n",
    "print('')\n",
    "# 性別、階級與存活率之關係\n",
    "print(data[['Sex', 'Pclass','Survived']].groupby(['Sex','Pclass'], as_index=False).mean().sort_values(by='Survived', ascending=False))\n",
    "print('')\n",
    "# 旁系血親與存貨率之關係\n",
    "print(data[['SibSp', 'Survived']].groupby(['SibSp'], as_index=False).mean().sort_values(by='Survived', ascending=False))\n",
    "print('')\n",
    "# 直系血親與存活率之關係\n",
    "print(data[['Parch', 'Survived']].groupby(['Parch'], as_index=False).mean().sort_values(by='Survived', ascending=False))\n",
    "print('')\n",
    "# 將旁系與直系血親合併並新增為家族，並觀察家族與存活率之關係\n",
    "combine = [data,test]\n",
    "for i in combine:\n",
    "    i['Family'] = i['SibSp'] + i['Parch']\n",
    "    \n",
    "print(data[['Family', 'Survived']].groupby(['Family'], as_index=False).mean().sort_values(by='Survived', ascending=False))\n",
    "print('')\n",
    "# 登船地點與存活率之關係\n",
    "print(data[['Embarked', 'Survived']].groupby(['Embarked'], as_index=False).mean().sort_values(by='Survived', ascending=False))"
   ]
  },
  {
   "cell_type": "code",
   "execution_count": 11,
   "id": "d0c84af6",
   "metadata": {
    "execution": {
     "iopub.execute_input": "2023-04-17T08:48:52.592975Z",
     "iopub.status.busy": "2023-04-17T08:48:52.591701Z",
     "iopub.status.idle": "2023-04-17T08:48:52.600911Z",
     "shell.execute_reply": "2023-04-17T08:48:52.599786Z"
    },
    "papermill": {
     "duration": 0.025698,
     "end_time": "2023-04-17T08:48:52.603675",
     "exception": false,
     "start_time": "2023-04-17T08:48:52.577977",
     "status": "completed"
    },
    "tags": []
   },
   "outputs": [],
   "source": [
    "# 1.大部分男生都死了，大部分女生活下來\n",
    "# 2.階級跟存活率成正比\n",
    "# 3.最低艙等女性存活率還是比最高艙等男性高\n",
    "# 4.旁系血親1個存活率最高\n",
    "# 5.直系血親3個存活率最高\n",
    "# 6.如果加總，有3個親友存活率高\n",
    "# 7.船艙存活率C>Q>S\n",
    "# 8.女性、有3位家人共同搭乘者、階級1，存活率高\n",
    "data = data.drop(['SibSp','Parch'],axis=1)\n",
    "test = test.drop(['SibSp','Parch'],axis = 1)\n",
    "combine = [data,test]"
   ]
  },
  {
   "cell_type": "code",
   "execution_count": 12,
   "id": "d8b77a48",
   "metadata": {
    "execution": {
     "iopub.execute_input": "2023-04-17T08:48:52.631561Z",
     "iopub.status.busy": "2023-04-17T08:48:52.630244Z",
     "iopub.status.idle": "2023-04-17T08:48:53.149211Z",
     "shell.execute_reply": "2023-04-17T08:48:53.148163Z"
    },
    "papermill": {
     "duration": 0.535539,
     "end_time": "2023-04-17T08:48:53.151728",
     "exception": false,
     "start_time": "2023-04-17T08:48:52.616189",
     "status": "completed"
    },
    "tags": []
   },
   "outputs": [
    {
     "data": {
      "text/plain": [
       "<seaborn.axisgrid.FacetGrid at 0x74b580589310>"
      ]
     },
     "execution_count": 12,
     "metadata": {},
     "output_type": "execute_result"
    },
    {
     "data": {
      "image/png": "[encoded data removed]",
      "text/plain": [
       "<Figure size 600x300 with 2 Axes>"
      ]
     },
     "metadata": {},
     "output_type": "display_data"
    }
   ],
   "source": [
    "sns.FacetGrid(data,col = 'Survived')\\\n",
    "    .map(plt.hist,'Age',bins=20)\n",
    "# 嬰兒存活率高\n",
    "# 青年人未存活率高\n",
    "# 多數乘客年齡介於青壯年"
   ]
  },
  {
   "cell_type": "code",
   "execution_count": 13,
   "id": "d12c32c0",
   "metadata": {
    "execution": {
     "iopub.execute_input": "2023-04-17T08:48:53.179532Z",
     "iopub.status.busy": "2023-04-17T08:48:53.178743Z",
     "iopub.status.idle": "2023-04-17T08:48:53.698954Z",
     "shell.execute_reply": "2023-04-17T08:48:53.697503Z"
    },
    "papermill": {
     "duration": 0.537436,
     "end_time": "2023-04-17T08:48:53.701753",
     "exception": false,
     "start_time": "2023-04-17T08:48:53.164317",
     "status": "completed"
    },
    "tags": []
   },
   "outputs": [
    {
     "data": {
      "text/plain": [
       "<seaborn.axisgrid.FacetGrid at 0x74b5803d3e10>"
      ]
     },
     "execution_count": 13,
     "metadata": {},
     "output_type": "execute_result"
    },
    {
     "data": {
      "image/png": "[encoded data removed]",
      "text/plain": [
       "<Figure size 600x300 with 2 Axes>"
      ]
     },
     "metadata": {},
     "output_type": "display_data"
    }
   ],
   "source": [
    "sns.FacetGrid(data,col = 'Sex')\\\n",
    "    .map(plt.hist,'Age',bins=20)\n",
    "# 青壯年佔男性的多數"
   ]
  },
  {
   "cell_type": "code",
   "execution_count": 14,
   "id": "300eb3b6",
   "metadata": {
    "execution": {
     "iopub.execute_input": "2023-04-17T08:48:53.735100Z",
     "iopub.status.busy": "2023-04-17T08:48:53.734260Z",
     "iopub.status.idle": "2023-04-17T08:48:55.153704Z",
     "shell.execute_reply": "2023-04-17T08:48:55.152380Z"
    },
    "papermill": {
     "duration": 1.439971,
     "end_time": "2023-04-17T08:48:55.156536",
     "exception": false,
     "start_time": "2023-04-17T08:48:53.716565",
     "status": "completed"
    },
    "tags": []
   },
   "outputs": [
    {
     "data": {
      "text/plain": [
       "<seaborn.axisgrid.FacetGrid at 0x74b58028fa50>"
      ]
     },
     "execution_count": 14,
     "metadata": {},
     "output_type": "execute_result"
    },
    {
     "data": {
      "image/png": "[encoded data removed]",
      "text/plain": [
       "<Figure size 600x900 with 6 Axes>"
      ]
     },
     "metadata": {},
     "output_type": "display_data"
    }
   ],
   "source": [
    "sns.FacetGrid(data, col='Survived', row='Pclass')\\\n",
    "    .map(plt.hist, 'Age',bins=20)\n",
    "# 階級1存活率最高\n",
    "# 階級3人數最多，未存活率也最高\n",
    "# 階級3多為青壯年"
   ]
  },
  {
   "cell_type": "code",
   "execution_count": 15,
   "id": "a5e7caa6",
   "metadata": {
    "execution": {
     "iopub.execute_input": "2023-04-17T08:48:55.188231Z",
     "iopub.status.busy": "2023-04-17T08:48:55.187816Z",
     "iopub.status.idle": "2023-04-17T08:48:56.093683Z",
     "shell.execute_reply": "2023-04-17T08:48:56.092441Z"
    },
    "papermill": {
     "duration": 0.925016,
     "end_time": "2023-04-17T08:48:56.096273",
     "exception": false,
     "start_time": "2023-04-17T08:48:55.171257",
     "status": "completed"
    },
    "tags": []
   },
   "outputs": [
    {
     "data": {
      "text/plain": [
       "<seaborn.axisgrid.FacetGrid at 0x74b58028f990>"
      ]
     },
     "execution_count": 15,
     "metadata": {},
     "output_type": "execute_result"
    },
    {
     "data": {
      "image/png": "[encoded data removed]",
      "text/plain": [
       "<Figure size 600x600 with 4 Axes>"
      ]
     },
     "metadata": {},
     "output_type": "display_data"
    }
   ],
   "source": [
    "sns.FacetGrid(data, col='Survived', row='Sex')\\\n",
    "    .map(plt.hist, 'Age',bins=20)\n",
    "# 多數死亡男性為青壯年"
   ]
  },
  {
   "cell_type": "code",
   "execution_count": 16,
   "id": "ffada7a7",
   "metadata": {
    "execution": {
     "iopub.execute_input": "2023-04-17T08:48:56.127421Z",
     "iopub.status.busy": "2023-04-17T08:48:56.126987Z",
     "iopub.status.idle": "2023-04-17T08:48:56.135742Z",
     "shell.execute_reply": "2023-04-17T08:48:56.134356Z"
    },
    "papermill": {
     "duration": 0.027843,
     "end_time": "2023-04-17T08:48:56.138638",
     "exception": false,
     "start_time": "2023-04-17T08:48:56.110795",
     "status": "completed"
    },
    "tags": []
   },
   "outputs": [],
   "source": [
    "# 因共同購票與共用客艙之比例偏高（共同購票之比例為23%，共用客艙之比例為28%）\n",
    "# 刪除'Ticket', 'Cabin'欄\n",
    "data = data.drop(['Ticket', 'Cabin'], axis=1)\n",
    "test = test.drop(['Ticket', 'Cabin'], axis=1)"
   ]
  },
  {
   "cell_type": "code",
   "execution_count": 17,
   "id": "a4064b08",
   "metadata": {
    "execution": {
     "iopub.execute_input": "2023-04-17T08:48:56.169750Z",
     "iopub.status.busy": "2023-04-17T08:48:56.169295Z",
     "iopub.status.idle": "2023-04-17T08:48:56.177880Z",
     "shell.execute_reply": "2023-04-17T08:48:56.176435Z"
    },
    "papermill": {
     "duration": 0.027236,
     "end_time": "2023-04-17T08:48:56.180415",
     "exception": false,
     "start_time": "2023-04-17T08:48:56.153179",
     "status": "completed"
    },
    "tags": []
   },
   "outputs": [],
   "source": [
    "data = data.drop(['Name', 'PassengerId'], axis=1)\n",
    "test = test.drop(['Name'], axis=1)"
   ]
  },
  {
   "cell_type": "code",
   "execution_count": 18,
   "id": "fd6956d2",
   "metadata": {
    "execution": {
     "iopub.execute_input": "2023-04-17T08:48:56.211825Z",
     "iopub.status.busy": "2023-04-17T08:48:56.211380Z",
     "iopub.status.idle": "2023-04-17T08:48:56.229147Z",
     "shell.execute_reply": "2023-04-17T08:48:56.228164Z"
    },
    "papermill": {
     "duration": 0.036764,
     "end_time": "2023-04-17T08:48:56.232047",
     "exception": false,
     "start_time": "2023-04-17T08:48:56.195283",
     "status": "completed"
    },
    "tags": []
   },
   "outputs": [
    {
     "data": {
      "text/html": [
       "<div>\n",
       "<style scoped>\n",
       "    .dataframe tbody tr th:only-of-type {\n",
       "        vertical-align: middle;\n",
       "    }\n",
       "\n",
       "    .dataframe tbody tr th {\n",
       "        vertical-align: top;\n",
       "    }\n",
       "\n",
       "    .dataframe thead th {\n",
       "        text-align: right;\n",
       "    }\n",
       "</style>\n",
       "<table border=\"1\" class=\"dataframe\">\n",
       "  <thead>\n",
       "    <tr style=\"text-align: right;\">\n",
       "      <th></th>\n",
       "      <th>Survived</th>\n",
       "      <th>Pclass</th>\n",
       "      <th>Sex</th>\n",
       "      <th>Age</th>\n",
       "      <th>Fare</th>\n",
       "      <th>Embarked</th>\n",
       "      <th>Family</th>\n",
       "    </tr>\n",
       "  </thead>\n",
       "  <tbody>\n",
       "    <tr>\n",
       "      <th>0</th>\n",
       "      <td>0</td>\n",
       "      <td>3</td>\n",
       "      <td>0</td>\n",
       "      <td>22.0</td>\n",
       "      <td>7.2500</td>\n",
       "      <td>S</td>\n",
       "      <td>1</td>\n",
       "    </tr>\n",
       "    <tr>\n",
       "      <th>1</th>\n",
       "      <td>1</td>\n",
       "      <td>1</td>\n",
       "      <td>1</td>\n",
       "      <td>38.0</td>\n",
       "      <td>71.2833</td>\n",
       "      <td>C</td>\n",
       "      <td>1</td>\n",
       "    </tr>\n",
       "    <tr>\n",
       "      <th>2</th>\n",
       "      <td>1</td>\n",
       "      <td>3</td>\n",
       "      <td>1</td>\n",
       "      <td>26.0</td>\n",
       "      <td>7.9250</td>\n",
       "      <td>S</td>\n",
       "      <td>0</td>\n",
       "    </tr>\n",
       "    <tr>\n",
       "      <th>3</th>\n",
       "      <td>1</td>\n",
       "      <td>1</td>\n",
       "      <td>1</td>\n",
       "      <td>35.0</td>\n",
       "      <td>53.1000</td>\n",
       "      <td>S</td>\n",
       "      <td>1</td>\n",
       "    </tr>\n",
       "    <tr>\n",
       "      <th>4</th>\n",
       "      <td>0</td>\n",
       "      <td>3</td>\n",
       "      <td>0</td>\n",
       "      <td>35.0</td>\n",
       "      <td>8.0500</td>\n",
       "      <td>S</td>\n",
       "      <td>0</td>\n",
       "    </tr>\n",
       "    <tr>\n",
       "      <th>5</th>\n",
       "      <td>0</td>\n",
       "      <td>3</td>\n",
       "      <td>0</td>\n",
       "      <td>NaN</td>\n",
       "      <td>8.4583</td>\n",
       "      <td>Q</td>\n",
       "      <td>0</td>\n",
       "    </tr>\n",
       "  </tbody>\n",
       "</table>\n",
       "</div>"
      ],
      "text/plain": [
       "   Survived  Pclass  Sex   Age     Fare Embarked  Family\n",
       "0         0       3    0  22.0   7.2500        S       1\n",
       "1         1       1    1  38.0  71.2833        C       1\n",
       "2         1       3    1  26.0   7.9250        S       0\n",
       "3         1       1    1  35.0  53.1000        S       1\n",
       "4         0       3    0  35.0   8.0500        S       0\n",
       "5         0       3    0   NaN   8.4583        Q       0"
      ]
     },
     "execution_count": 18,
     "metadata": {},
     "output_type": "execute_result"
    }
   ],
   "source": [
    "combine = [data,test]\n",
    "for i in combine:\n",
    "    i['Sex'] = LabelEncoder().fit_transform(i['Sex'].factorize()[0]) \n",
    "data.head(6)\n",
    "# 第五列之年齡為缺失值"
   ]
  },
  {
   "cell_type": "code",
   "execution_count": 19,
   "id": "d59d9205",
   "metadata": {
    "execution": {
     "iopub.execute_input": "2023-04-17T08:48:56.264616Z",
     "iopub.status.busy": "2023-04-17T08:48:56.263827Z",
     "iopub.status.idle": "2023-04-17T08:48:57.851727Z",
     "shell.execute_reply": "2023-04-17T08:48:57.850386Z"
    },
    "papermill": {
     "duration": 1.607164,
     "end_time": "2023-04-17T08:48:57.854441",
     "exception": false,
     "start_time": "2023-04-17T08:48:56.247277",
     "status": "completed"
    },
    "tags": []
   },
   "outputs": [
    {
     "data": {
      "text/plain": [
       "<seaborn.axisgrid.FacetGrid at 0x74b58a214850>"
      ]
     },
     "execution_count": 19,
     "metadata": {},
     "output_type": "execute_result"
    },
    {
     "data": {
      "image/png": "[encoded data removed]",
      "text/plain": [
       "<Figure size 611.111x900 with 6 Axes>"
      ]
     },
     "metadata": {},
     "output_type": "display_data"
    }
   ],
   "source": [
    "sns.FacetGrid(data, row='Pclass', col='Sex')\\\n",
    "    .map(plt.hist, 'Age', bins=20)\\\n",
    "    .add_legend()"
   ]
  },
  {
   "cell_type": "code",
   "execution_count": 20,
   "id": "af7e9cd9",
   "metadata": {
    "execution": {
     "iopub.execute_input": "2023-04-17T08:48:57.888056Z",
     "iopub.status.busy": "2023-04-17T08:48:57.887610Z",
     "iopub.status.idle": "2023-04-17T08:48:57.903309Z",
     "shell.execute_reply": "2023-04-17T08:48:57.902010Z"
    },
    "papermill": {
     "duration": 0.035724,
     "end_time": "2023-04-17T08:48:57.905940",
     "exception": false,
     "start_time": "2023-04-17T08:48:57.870216",
     "status": "completed"
    },
    "tags": []
   },
   "outputs": [
    {
     "data": {
      "text/plain": [
       "Pclass  Sex\n",
       "1       0      41.0\n",
       "        1      35.0\n",
       "2       0      31.0\n",
       "        1      29.0\n",
       "3       0      27.0\n",
       "        1      22.0\n",
       "Name: Age, dtype: float64"
      ]
     },
     "execution_count": 20,
     "metadata": {},
     "output_type": "execute_result"
    }
   ],
   "source": [
    "#根據'Pclass','Sex'分類找age的平均值\n",
    "age_mean = round(data.groupby(['Pclass','Sex']).Age.mean())\n",
    "age_mean"
   ]
  },
  {
   "cell_type": "code",
   "execution_count": 21,
   "id": "619d29f7",
   "metadata": {
    "execution": {
     "iopub.execute_input": "2023-04-17T08:48:57.938622Z",
     "iopub.status.busy": "2023-04-17T08:48:57.938142Z",
     "iopub.status.idle": "2023-04-17T08:48:57.967917Z",
     "shell.execute_reply": "2023-04-17T08:48:57.966523Z"
    },
    "papermill": {
     "duration": 0.049268,
     "end_time": "2023-04-17T08:48:57.970717",
     "exception": false,
     "start_time": "2023-04-17T08:48:57.921449",
     "status": "completed"
    },
    "tags": []
   },
   "outputs": [
    {
     "data": {
      "text/html": [
       "<div>\n",
       "<style scoped>\n",
       "    .dataframe tbody tr th:only-of-type {\n",
       "        vertical-align: middle;\n",
       "    }\n",
       "\n",
       "    .dataframe tbody tr th {\n",
       "        vertical-align: top;\n",
       "    }\n",
       "\n",
       "    .dataframe thead th {\n",
       "        text-align: right;\n",
       "    }\n",
       "</style>\n",
       "<table border=\"1\" class=\"dataframe\">\n",
       "  <thead>\n",
       "    <tr style=\"text-align: right;\">\n",
       "      <th></th>\n",
       "      <th>Survived</th>\n",
       "      <th>Pclass</th>\n",
       "      <th>Sex</th>\n",
       "      <th>Age</th>\n",
       "      <th>Fare</th>\n",
       "      <th>Embarked</th>\n",
       "      <th>Family</th>\n",
       "    </tr>\n",
       "  </thead>\n",
       "  <tbody>\n",
       "    <tr>\n",
       "      <th>0</th>\n",
       "      <td>0</td>\n",
       "      <td>3</td>\n",
       "      <td>0</td>\n",
       "      <td>22.0</td>\n",
       "      <td>7.2500</td>\n",
       "      <td>S</td>\n",
       "      <td>1</td>\n",
       "    </tr>\n",
       "    <tr>\n",
       "      <th>1</th>\n",
       "      <td>1</td>\n",
       "      <td>1</td>\n",
       "      <td>1</td>\n",
       "      <td>38.0</td>\n",
       "      <td>71.2833</td>\n",
       "      <td>C</td>\n",
       "      <td>1</td>\n",
       "    </tr>\n",
       "    <tr>\n",
       "      <th>2</th>\n",
       "      <td>1</td>\n",
       "      <td>3</td>\n",
       "      <td>1</td>\n",
       "      <td>26.0</td>\n",
       "      <td>7.9250</td>\n",
       "      <td>S</td>\n",
       "      <td>0</td>\n",
       "    </tr>\n",
       "    <tr>\n",
       "      <th>3</th>\n",
       "      <td>1</td>\n",
       "      <td>1</td>\n",
       "      <td>1</td>\n",
       "      <td>35.0</td>\n",
       "      <td>53.1000</td>\n",
       "      <td>S</td>\n",
       "      <td>1</td>\n",
       "    </tr>\n",
       "    <tr>\n",
       "      <th>4</th>\n",
       "      <td>0</td>\n",
       "      <td>3</td>\n",
       "      <td>0</td>\n",
       "      <td>35.0</td>\n",
       "      <td>8.0500</td>\n",
       "      <td>S</td>\n",
       "      <td>0</td>\n",
       "    </tr>\n",
       "    <tr>\n",
       "      <th>5</th>\n",
       "      <td>0</td>\n",
       "      <td>3</td>\n",
       "      <td>0</td>\n",
       "      <td>27.0</td>\n",
       "      <td>8.4583</td>\n",
       "      <td>Q</td>\n",
       "      <td>0</td>\n",
       "    </tr>\n",
       "  </tbody>\n",
       "</table>\n",
       "</div>"
      ],
      "text/plain": [
       "   Survived  Pclass  Sex   Age     Fare Embarked  Family\n",
       "0         0       3    0  22.0   7.2500        S       1\n",
       "1         1       1    1  38.0  71.2833        C       1\n",
       "2         1       3    1  26.0   7.9250        S       0\n",
       "3         1       1    1  35.0  53.1000        S       1\n",
       "4         0       3    0  35.0   8.0500        S       0\n",
       "5         0       3    0  27.0   8.4583        Q       0"
      ]
     },
     "execution_count": 21,
     "metadata": {},
     "output_type": "execute_result"
    }
   ],
   "source": [
    "combine = [data,test]\n",
    "for i in combine:\n",
    "    i.set_index(['Pclass','Sex'],inplace=True) #變更索引\n",
    "    i.Age.fillna(age_mean,inplace=True) #根據不同'Pclass','Sex'填充缺失值\n",
    "    i.reset_index(inplace=True) #還原索引\n",
    "    \n",
    "data.set_index(['Survived'],inplace=True)\n",
    "data.reset_index(inplace=True) #重新將Survived移回最前欄\n",
    "data.head(6)\n",
    "# 可見第五列之年齡缺失值已補上"
   ]
  },
  {
   "cell_type": "code",
   "execution_count": 22,
   "id": "71333197",
   "metadata": {
    "execution": {
     "iopub.execute_input": "2023-04-17T08:48:58.005147Z",
     "iopub.status.busy": "2023-04-17T08:48:58.004714Z",
     "iopub.status.idle": "2023-04-17T08:48:58.020996Z",
     "shell.execute_reply": "2023-04-17T08:48:58.019071Z"
    },
    "papermill": {
     "duration": 0.036464,
     "end_time": "2023-04-17T08:48:58.023779",
     "exception": false,
     "start_time": "2023-04-17T08:48:57.987315",
     "status": "completed"
    },
    "tags": []
   },
   "outputs": [
    {
     "name": "stdout",
     "output_type": "stream",
     "text": [
      "<class 'pandas.core.frame.DataFrame'>\n",
      "RangeIndex: 891 entries, 0 to 890\n",
      "Data columns (total 7 columns):\n",
      " #   Column    Non-Null Count  Dtype  \n",
      "---  ------    --------------  -----  \n",
      " 0   Survived  891 non-null    int64  \n",
      " 1   Pclass    891 non-null    int64  \n",
      " 2   Sex       891 non-null    int64  \n",
      " 3   Age       891 non-null    float64\n",
      " 4   Fare      891 non-null    float64\n",
      " 5   Embarked  891 non-null    object \n",
      " 6   Family    891 non-null    int64  \n",
      "dtypes: float64(2), int64(4), object(1)\n",
      "memory usage: 48.9+ KB\n"
     ]
    }
   ],
   "source": [
    "# 針對兩筆缺失Embarked之資料，可以採用：\n",
    "# 方法1:移除Embarked有缺失值的兩列\n",
    "# data = data.dropna(subset=['Embarked'], how='any')\n",
    "# 方法2:填充眾數\n",
    "# 這裡選擇使用方法2，填充最多人上船的S\n",
    "data['Embarked'].fillna(value='S', inplace=True)\n",
    "data.info()"
   ]
  },
  {
   "cell_type": "code",
   "execution_count": 23,
   "id": "76d2d107",
   "metadata": {
    "execution": {
     "iopub.execute_input": "2023-04-17T08:48:58.057006Z",
     "iopub.status.busy": "2023-04-17T08:48:58.056569Z",
     "iopub.status.idle": "2023-04-17T08:48:58.085755Z",
     "shell.execute_reply": "2023-04-17T08:48:58.084419Z"
    },
    "papermill": {
     "duration": 0.049604,
     "end_time": "2023-04-17T08:48:58.088946",
     "exception": false,
     "start_time": "2023-04-17T08:48:58.039342",
     "status": "completed"
    },
    "tags": []
   },
   "outputs": [
    {
     "data": {
      "text/html": [
       "<div>\n",
       "<style scoped>\n",
       "    .dataframe tbody tr th:only-of-type {\n",
       "        vertical-align: middle;\n",
       "    }\n",
       "\n",
       "    .dataframe tbody tr th {\n",
       "        vertical-align: top;\n",
       "    }\n",
       "\n",
       "    .dataframe thead th {\n",
       "        text-align: right;\n",
       "    }\n",
       "</style>\n",
       "<table border=\"1\" class=\"dataframe\">\n",
       "  <thead>\n",
       "    <tr style=\"text-align: right;\">\n",
       "      <th></th>\n",
       "      <th>AgeBand</th>\n",
       "      <th>Survived</th>\n",
       "    </tr>\n",
       "  </thead>\n",
       "  <tbody>\n",
       "    <tr>\n",
       "      <th>0</th>\n",
       "      <td>(0.34, 16.336]</td>\n",
       "      <td>0.550000</td>\n",
       "    </tr>\n",
       "    <tr>\n",
       "      <th>1</th>\n",
       "      <td>(16.336, 32.252]</td>\n",
       "      <td>0.336714</td>\n",
       "    </tr>\n",
       "    <tr>\n",
       "      <th>2</th>\n",
       "      <td>(32.252, 48.168]</td>\n",
       "      <td>0.412844</td>\n",
       "    </tr>\n",
       "    <tr>\n",
       "      <th>3</th>\n",
       "      <td>(48.168, 64.084]</td>\n",
       "      <td>0.434783</td>\n",
       "    </tr>\n",
       "    <tr>\n",
       "      <th>4</th>\n",
       "      <td>(64.084, 80.0]</td>\n",
       "      <td>0.090909</td>\n",
       "    </tr>\n",
       "  </tbody>\n",
       "</table>\n",
       "</div>"
      ],
      "text/plain": [
       "            AgeBand  Survived\n",
       "0    (0.34, 16.336]  0.550000\n",
       "1  (16.336, 32.252]  0.336714\n",
       "2  (32.252, 48.168]  0.412844\n",
       "3  (48.168, 64.084]  0.434783\n",
       "4    (64.084, 80.0]  0.090909"
      ]
     },
     "execution_count": 23,
     "metadata": {},
     "output_type": "execute_result"
    }
   ],
   "source": [
    "data['AgeBand'] = pd.cut(data['Age'],5)\n",
    "data[['AgeBand', 'Survived']].groupby(['AgeBand'], as_index=False).mean().sort_values(by='AgeBand', ascending=True)"
   ]
  },
  {
   "cell_type": "code",
   "execution_count": 24,
   "id": "5e1fd111",
   "metadata": {
    "execution": {
     "iopub.execute_input": "2023-04-17T08:48:58.123308Z",
     "iopub.status.busy": "2023-04-17T08:48:58.122513Z",
     "iopub.status.idle": "2023-04-17T08:48:58.136984Z",
     "shell.execute_reply": "2023-04-17T08:48:58.135794Z"
    },
    "papermill": {
     "duration": 0.035111,
     "end_time": "2023-04-17T08:48:58.139996",
     "exception": false,
     "start_time": "2023-04-17T08:48:58.104885",
     "status": "completed"
    },
    "tags": []
   },
   "outputs": [],
   "source": [
    "combine = [data,test]\n",
    "for i in combine:\n",
    "    i.loc[i['Age'] <=16,'Age'] = 0\n",
    "    i.loc[(i['Age'] >16) & (i['Age']<=32),'Age'] = 1\n",
    "    i.loc[(i['Age'] >32) & (i['Age']<=48),'Age'] = 2\n",
    "    i.loc[(i['Age'] >48) & (i['Age']<=64),'Age'] = 3\n",
    "    i.loc[(i['Age'] >64),'Age'] = 4"
   ]
  },
  {
   "cell_type": "code",
   "execution_count": 25,
   "id": "5450c181",
   "metadata": {
    "execution": {
     "iopub.execute_input": "2023-04-17T08:48:58.174036Z",
     "iopub.status.busy": "2023-04-17T08:48:58.173595Z",
     "iopub.status.idle": "2023-04-17T08:48:58.180654Z",
     "shell.execute_reply": "2023-04-17T08:48:58.179267Z"
    },
    "papermill": {
     "duration": 0.027256,
     "end_time": "2023-04-17T08:48:58.183141",
     "exception": false,
     "start_time": "2023-04-17T08:48:58.155885",
     "status": "completed"
    },
    "tags": []
   },
   "outputs": [],
   "source": [
    "data = data.drop('AgeBand',axis = 1)"
   ]
  },
  {
   "cell_type": "code",
   "execution_count": 26,
   "id": "a585ed18",
   "metadata": {
    "execution": {
     "iopub.execute_input": "2023-04-17T08:48:58.217279Z",
     "iopub.status.busy": "2023-04-17T08:48:58.216886Z",
     "iopub.status.idle": "2023-04-17T08:48:58.232432Z",
     "shell.execute_reply": "2023-04-17T08:48:58.230962Z"
    },
    "papermill": {
     "duration": 0.035299,
     "end_time": "2023-04-17T08:48:58.234872",
     "exception": false,
     "start_time": "2023-04-17T08:48:58.199573",
     "status": "completed"
    },
    "tags": []
   },
   "outputs": [
    {
     "data": {
      "text/html": [
       "<div>\n",
       "<style scoped>\n",
       "    .dataframe tbody tr th:only-of-type {\n",
       "        vertical-align: middle;\n",
       "    }\n",
       "\n",
       "    .dataframe tbody tr th {\n",
       "        vertical-align: top;\n",
       "    }\n",
       "\n",
       "    .dataframe thead th {\n",
       "        text-align: right;\n",
       "    }\n",
       "</style>\n",
       "<table border=\"1\" class=\"dataframe\">\n",
       "  <thead>\n",
       "    <tr style=\"text-align: right;\">\n",
       "      <th></th>\n",
       "      <th>Pclass</th>\n",
       "      <th>Sex</th>\n",
       "      <th>PassengerId</th>\n",
       "      <th>Age</th>\n",
       "      <th>Fare</th>\n",
       "      <th>Embarked</th>\n",
       "      <th>Family</th>\n",
       "    </tr>\n",
       "  </thead>\n",
       "  <tbody>\n",
       "    <tr>\n",
       "      <th>152</th>\n",
       "      <td>3</td>\n",
       "      <td>0</td>\n",
       "      <td>1044</td>\n",
       "      <td>3.0</td>\n",
       "      <td>NaN</td>\n",
       "      <td>S</td>\n",
       "      <td>0</td>\n",
       "    </tr>\n",
       "  </tbody>\n",
       "</table>\n",
       "</div>"
      ],
      "text/plain": [
       "     Pclass  Sex  PassengerId  Age  Fare Embarked  Family\n",
       "152       3    0         1044  3.0   NaN        S       0"
      ]
     },
     "execution_count": 26,
     "metadata": {},
     "output_type": "execute_result"
    }
   ],
   "source": [
    "test[np.isnan(test['Fare']) == True]"
   ]
  },
  {
   "cell_type": "code",
   "execution_count": 27,
   "id": "9fe07483",
   "metadata": {
    "execution": {
     "iopub.execute_input": "2023-04-17T08:48:58.270354Z",
     "iopub.status.busy": "2023-04-17T08:48:58.269918Z",
     "iopub.status.idle": "2023-04-17T08:48:58.292077Z",
     "shell.execute_reply": "2023-04-17T08:48:58.290571Z"
    },
    "papermill": {
     "duration": 0.043813,
     "end_time": "2023-04-17T08:48:58.294866",
     "exception": false,
     "start_time": "2023-04-17T08:48:58.251053",
     "status": "completed"
    },
    "tags": []
   },
   "outputs": [
    {
     "data": {
      "text/html": [
       "<div>\n",
       "<style scoped>\n",
       "    .dataframe tbody tr th:only-of-type {\n",
       "        vertical-align: middle;\n",
       "    }\n",
       "\n",
       "    .dataframe tbody tr th {\n",
       "        vertical-align: top;\n",
       "    }\n",
       "\n",
       "    .dataframe thead th {\n",
       "        text-align: right;\n",
       "    }\n",
       "</style>\n",
       "<table border=\"1\" class=\"dataframe\">\n",
       "  <thead>\n",
       "    <tr style=\"text-align: right;\">\n",
       "      <th></th>\n",
       "      <th>Pclass</th>\n",
       "      <th>Embarked</th>\n",
       "      <th>Sex</th>\n",
       "      <th>Fare</th>\n",
       "    </tr>\n",
       "  </thead>\n",
       "  <tbody>\n",
       "    <tr>\n",
       "      <th>10</th>\n",
       "      <td>3</td>\n",
       "      <td>C</td>\n",
       "      <td>0</td>\n",
       "      <td>10.450626</td>\n",
       "    </tr>\n",
       "    <tr>\n",
       "      <th>11</th>\n",
       "      <td>3</td>\n",
       "      <td>C</td>\n",
       "      <td>1</td>\n",
       "      <td>11.360950</td>\n",
       "    </tr>\n",
       "    <tr>\n",
       "      <th>12</th>\n",
       "      <td>3</td>\n",
       "      <td>Q</td>\n",
       "      <td>0</td>\n",
       "      <td>8.931483</td>\n",
       "    </tr>\n",
       "    <tr>\n",
       "      <th>13</th>\n",
       "      <td>3</td>\n",
       "      <td>Q</td>\n",
       "      <td>1</td>\n",
       "      <td>9.051813</td>\n",
       "    </tr>\n",
       "    <tr>\n",
       "      <th>14</th>\n",
       "      <td>3</td>\n",
       "      <td>S</td>\n",
       "      <td>0</td>\n",
       "      <td>12.718872</td>\n",
       "    </tr>\n",
       "    <tr>\n",
       "      <th>15</th>\n",
       "      <td>3</td>\n",
       "      <td>S</td>\n",
       "      <td>1</td>\n",
       "      <td>16.825610</td>\n",
       "    </tr>\n",
       "    <tr>\n",
       "      <th>5</th>\n",
       "      <td>2</td>\n",
       "      <td>C</td>\n",
       "      <td>0</td>\n",
       "      <td>14.451771</td>\n",
       "    </tr>\n",
       "    <tr>\n",
       "      <th>6</th>\n",
       "      <td>2</td>\n",
       "      <td>C</td>\n",
       "      <td>1</td>\n",
       "      <td>30.040625</td>\n",
       "    </tr>\n",
       "    <tr>\n",
       "      <th>7</th>\n",
       "      <td>2</td>\n",
       "      <td>Q</td>\n",
       "      <td>0</td>\n",
       "      <td>11.273950</td>\n",
       "    </tr>\n",
       "    <tr>\n",
       "      <th>8</th>\n",
       "      <td>2</td>\n",
       "      <td>S</td>\n",
       "      <td>0</td>\n",
       "      <td>21.641827</td>\n",
       "    </tr>\n",
       "    <tr>\n",
       "      <th>9</th>\n",
       "      <td>2</td>\n",
       "      <td>S</td>\n",
       "      <td>1</td>\n",
       "      <td>25.884615</td>\n",
       "    </tr>\n",
       "    <tr>\n",
       "      <th>0</th>\n",
       "      <td>1</td>\n",
       "      <td>C</td>\n",
       "      <td>0</td>\n",
       "      <td>96.251339</td>\n",
       "    </tr>\n",
       "    <tr>\n",
       "      <th>1</th>\n",
       "      <td>1</td>\n",
       "      <td>C</td>\n",
       "      <td>1</td>\n",
       "      <td>123.895682</td>\n",
       "    </tr>\n",
       "    <tr>\n",
       "      <th>2</th>\n",
       "      <td>1</td>\n",
       "      <td>Q</td>\n",
       "      <td>1</td>\n",
       "      <td>90.000000</td>\n",
       "    </tr>\n",
       "    <tr>\n",
       "      <th>3</th>\n",
       "      <td>1</td>\n",
       "      <td>S</td>\n",
       "      <td>0</td>\n",
       "      <td>55.634341</td>\n",
       "    </tr>\n",
       "    <tr>\n",
       "      <th>4</th>\n",
       "      <td>1</td>\n",
       "      <td>S</td>\n",
       "      <td>1</td>\n",
       "      <td>105.737110</td>\n",
       "    </tr>\n",
       "  </tbody>\n",
       "</table>\n",
       "</div>"
      ],
      "text/plain": [
       "    Pclass Embarked  Sex        Fare\n",
       "10       3        C    0   10.450626\n",
       "11       3        C    1   11.360950\n",
       "12       3        Q    0    8.931483\n",
       "13       3        Q    1    9.051813\n",
       "14       3        S    0   12.718872\n",
       "15       3        S    1   16.825610\n",
       "5        2        C    0   14.451771\n",
       "6        2        C    1   30.040625\n",
       "7        2        Q    0   11.273950\n",
       "8        2        S    0   21.641827\n",
       "9        2        S    1   25.884615\n",
       "0        1        C    0   96.251339\n",
       "1        1        C    1  123.895682\n",
       "2        1        Q    1   90.000000\n",
       "3        1        S    0   55.634341\n",
       "4        1        S    1  105.737110"
      ]
     },
     "execution_count": 27,
     "metadata": {},
     "output_type": "execute_result"
    }
   ],
   "source": [
    "test[['Embarked','Pclass','Sex', 'Fare']].groupby(['Pclass','Embarked','Sex'], as_index=False).mean().sort_values(by='Pclass', ascending=False)"
   ]
  },
  {
   "cell_type": "code",
   "execution_count": 28,
   "id": "f19cecb6",
   "metadata": {
    "execution": {
     "iopub.execute_input": "2023-04-17T08:48:58.329743Z",
     "iopub.status.busy": "2023-04-17T08:48:58.329288Z",
     "iopub.status.idle": "2023-04-17T08:48:58.345183Z",
     "shell.execute_reply": "2023-04-17T08:48:58.343565Z"
    },
    "papermill": {
     "duration": 0.036739,
     "end_time": "2023-04-17T08:48:58.348177",
     "exception": false,
     "start_time": "2023-04-17T08:48:58.311438",
     "status": "completed"
    },
    "tags": []
   },
   "outputs": [
    {
     "name": "stdout",
     "output_type": "stream",
     "text": [
      "<class 'pandas.core.frame.DataFrame'>\n",
      "RangeIndex: 418 entries, 0 to 417\n",
      "Data columns (total 7 columns):\n",
      " #   Column       Non-Null Count  Dtype  \n",
      "---  ------       --------------  -----  \n",
      " 0   Pclass       418 non-null    int64  \n",
      " 1   Sex          418 non-null    int64  \n",
      " 2   PassengerId  418 non-null    int64  \n",
      " 3   Age          418 non-null    float64\n",
      " 4   Fare         418 non-null    float64\n",
      " 5   Embarked     418 non-null    object \n",
      " 6   Family       418 non-null    int64  \n",
      "dtypes: float64(2), int64(4), object(1)\n",
      "memory usage: 23.0+ KB\n"
     ]
    }
   ],
   "source": [
    "test.loc[test['PassengerId']==1044,'Fare'] = 12.7188\n",
    "test.info()"
   ]
  },
  {
   "cell_type": "code",
   "execution_count": 29,
   "id": "32ba85c4",
   "metadata": {
    "execution": {
     "iopub.execute_input": "2023-04-17T08:48:58.382871Z",
     "iopub.status.busy": "2023-04-17T08:48:58.382413Z",
     "iopub.status.idle": "2023-04-17T08:48:58.404816Z",
     "shell.execute_reply": "2023-04-17T08:48:58.403508Z"
    },
    "papermill": {
     "duration": 0.042673,
     "end_time": "2023-04-17T08:48:58.407363",
     "exception": false,
     "start_time": "2023-04-17T08:48:58.364690",
     "status": "completed"
    },
    "tags": []
   },
   "outputs": [
    {
     "data": {
      "text/html": [
       "<div>\n",
       "<style scoped>\n",
       "    .dataframe tbody tr th:only-of-type {\n",
       "        vertical-align: middle;\n",
       "    }\n",
       "\n",
       "    .dataframe tbody tr th {\n",
       "        vertical-align: top;\n",
       "    }\n",
       "\n",
       "    .dataframe thead th {\n",
       "        text-align: right;\n",
       "    }\n",
       "</style>\n",
       "<table border=\"1\" class=\"dataframe\">\n",
       "  <thead>\n",
       "    <tr style=\"text-align: right;\">\n",
       "      <th></th>\n",
       "      <th>FareBand</th>\n",
       "      <th>Survived</th>\n",
       "    </tr>\n",
       "  </thead>\n",
       "  <tbody>\n",
       "    <tr>\n",
       "      <th>0</th>\n",
       "      <td>(-0.512, 128.082]</td>\n",
       "      <td>0.368113</td>\n",
       "    </tr>\n",
       "    <tr>\n",
       "      <th>1</th>\n",
       "      <td>(128.082, 256.165]</td>\n",
       "      <td>0.724138</td>\n",
       "    </tr>\n",
       "    <tr>\n",
       "      <th>2</th>\n",
       "      <td>(256.165, 384.247]</td>\n",
       "      <td>0.666667</td>\n",
       "    </tr>\n",
       "    <tr>\n",
       "      <th>3</th>\n",
       "      <td>(384.247, 512.329]</td>\n",
       "      <td>1.000000</td>\n",
       "    </tr>\n",
       "  </tbody>\n",
       "</table>\n",
       "</div>"
      ],
      "text/plain": [
       "             FareBand  Survived\n",
       "0   (-0.512, 128.082]  0.368113\n",
       "1  (128.082, 256.165]  0.724138\n",
       "2  (256.165, 384.247]  0.666667\n",
       "3  (384.247, 512.329]  1.000000"
      ]
     },
     "execution_count": 29,
     "metadata": {},
     "output_type": "execute_result"
    }
   ],
   "source": [
    "data['FareBand'] = pd.cut(data['Fare'],4)\n",
    "data[['FareBand', 'Survived']].groupby(['FareBand'], as_index=False).mean().sort_values(by='FareBand', ascending=True)"
   ]
  },
  {
   "cell_type": "code",
   "execution_count": 30,
   "id": "5aac03f3",
   "metadata": {
    "execution": {
     "iopub.execute_input": "2023-04-17T08:48:58.442332Z",
     "iopub.status.busy": "2023-04-17T08:48:58.441941Z",
     "iopub.status.idle": "2023-04-17T08:48:58.457758Z",
     "shell.execute_reply": "2023-04-17T08:48:58.456396Z"
    },
    "papermill": {
     "duration": 0.036265,
     "end_time": "2023-04-17T08:48:58.460176",
     "exception": false,
     "start_time": "2023-04-17T08:48:58.423911",
     "status": "completed"
    },
    "tags": []
   },
   "outputs": [],
   "source": [
    "combine = [data,test]\n",
    "for i in combine:\n",
    "    i.loc[i['Fare'] <=128,'Fare'] = 0\n",
    "    i.loc[(i['Fare'] >128) & (i['Fare']<=256),'Fare'] = 1\n",
    "    i.loc[(i['Fare'] >256) & (i['Fare']<=384),'Fare'] = 2\n",
    "    i.loc[(i['Fare'] >384),'Fare'] = 3\n",
    "data = data.drop('FareBand',axis=1)"
   ]
  },
  {
   "cell_type": "code",
   "execution_count": 31,
   "id": "5dac29ca",
   "metadata": {
    "execution": {
     "iopub.execute_input": "2023-04-17T08:48:58.495071Z",
     "iopub.status.busy": "2023-04-17T08:48:58.494663Z",
     "iopub.status.idle": "2023-04-17T08:48:58.502510Z",
     "shell.execute_reply": "2023-04-17T08:48:58.501424Z"
    },
    "papermill": {
     "duration": 0.028336,
     "end_time": "2023-04-17T08:48:58.505168",
     "exception": false,
     "start_time": "2023-04-17T08:48:58.476832",
     "status": "completed"
    },
    "tags": []
   },
   "outputs": [],
   "source": [
    "combine = [data,test]\n",
    "for i in combine:\n",
    "    i['Embarked'] = LabelEncoder().fit_transform(i['Embarked'].factorize()[0]) "
   ]
  },
  {
   "cell_type": "code",
   "execution_count": 32,
   "id": "5d6e78c0",
   "metadata": {
    "execution": {
     "iopub.execute_input": "2023-04-17T08:48:58.540537Z",
     "iopub.status.busy": "2023-04-17T08:48:58.540110Z",
     "iopub.status.idle": "2023-04-17T08:48:58.551955Z",
     "shell.execute_reply": "2023-04-17T08:48:58.550452Z"
    },
    "papermill": {
     "duration": 0.032726,
     "end_time": "2023-04-17T08:48:58.554418",
     "exception": false,
     "start_time": "2023-04-17T08:48:58.521692",
     "status": "completed"
    },
    "tags": []
   },
   "outputs": [
    {
     "data": {
      "text/plain": [
       "((891, 6), (891,), (418, 6))"
      ]
     },
     "execution_count": 32,
     "metadata": {},
     "output_type": "execute_result"
    }
   ],
   "source": [
    "X_train = data.drop(\"Survived\", axis=1)\n",
    "Y_train = data[\"Survived\"]\n",
    "X_test  = test.drop(\"PassengerId\", axis=1).copy() # 為什麼要有copy呢？\n",
    "X_train.shape, Y_train.shape, X_test.shape"
   ]
  },
  {
   "cell_type": "code",
   "execution_count": 33,
   "id": "57422218",
   "metadata": {
    "execution": {
     "iopub.execute_input": "2023-04-17T08:48:58.590096Z",
     "iopub.status.busy": "2023-04-17T08:48:58.589189Z",
     "iopub.status.idle": "2023-04-17T08:48:58.616682Z",
     "shell.execute_reply": "2023-04-17T08:48:58.615687Z"
    },
    "papermill": {
     "duration": 0.048204,
     "end_time": "2023-04-17T08:48:58.619252",
     "exception": false,
     "start_time": "2023-04-17T08:48:58.571048",
     "status": "completed"
    },
    "tags": []
   },
   "outputs": [
    {
     "data": {
      "text/plain": [
       "80.58"
      ]
     },
     "execution_count": 33,
     "metadata": {},
     "output_type": "execute_result"
    }
   ],
   "source": [
    "logreg = LogisticRegression()\n",
    "logreg.fit(X_train, Y_train)\n",
    "Y_pred = logreg.predict(X_test)\n",
    "acc_log = round(logreg.score(X_train, Y_train) * 100, 2)\n",
    "acc_log"
   ]
  },
  {
   "cell_type": "code",
   "execution_count": 34,
   "id": "e1ed6ff8",
   "metadata": {
    "execution": {
     "iopub.execute_input": "2023-04-17T08:48:58.655495Z",
     "iopub.status.busy": "2023-04-17T08:48:58.654122Z",
     "iopub.status.idle": "2023-04-17T08:48:58.669861Z",
     "shell.execute_reply": "2023-04-17T08:48:58.668561Z"
    },
    "papermill": {
     "duration": 0.036532,
     "end_time": "2023-04-17T08:48:58.672465",
     "exception": false,
     "start_time": "2023-04-17T08:48:58.635933",
     "status": "completed"
    },
    "tags": []
   },
   "outputs": [
    {
     "data": {
      "text/html": [
       "<div>\n",
       "<style scoped>\n",
       "    .dataframe tbody tr th:only-of-type {\n",
       "        vertical-align: middle;\n",
       "    }\n",
       "\n",
       "    .dataframe tbody tr th {\n",
       "        vertical-align: top;\n",
       "    }\n",
       "\n",
       "    .dataframe thead th {\n",
       "        text-align: right;\n",
       "    }\n",
       "</style>\n",
       "<table border=\"1\" class=\"dataframe\">\n",
       "  <thead>\n",
       "    <tr style=\"text-align: right;\">\n",
       "      <th></th>\n",
       "      <th>Feature</th>\n",
       "      <th>Correlation</th>\n",
       "    </tr>\n",
       "  </thead>\n",
       "  <tbody>\n",
       "    <tr>\n",
       "      <th>1</th>\n",
       "      <td>Sex</td>\n",
       "      <td>2.627492</td>\n",
       "    </tr>\n",
       "    <tr>\n",
       "      <th>4</th>\n",
       "      <td>Embarked</td>\n",
       "      <td>0.227138</td>\n",
       "    </tr>\n",
       "    <tr>\n",
       "      <th>3</th>\n",
       "      <td>Fare</td>\n",
       "      <td>0.114480</td>\n",
       "    </tr>\n",
       "    <tr>\n",
       "      <th>5</th>\n",
       "      <td>Family</td>\n",
       "      <td>-0.187375</td>\n",
       "    </tr>\n",
       "    <tr>\n",
       "      <th>2</th>\n",
       "      <td>Age</td>\n",
       "      <td>-0.639543</td>\n",
       "    </tr>\n",
       "    <tr>\n",
       "      <th>0</th>\n",
       "      <td>Pclass</td>\n",
       "      <td>-1.217050</td>\n",
       "    </tr>\n",
       "  </tbody>\n",
       "</table>\n",
       "</div>"
      ],
      "text/plain": [
       "    Feature  Correlation\n",
       "1       Sex     2.627492\n",
       "4  Embarked     0.227138\n",
       "3      Fare     0.114480\n",
       "5    Family    -0.187375\n",
       "2       Age    -0.639543\n",
       "0    Pclass    -1.217050"
      ]
     },
     "execution_count": 34,
     "metadata": {},
     "output_type": "execute_result"
    }
   ],
   "source": [
    "data_corr = pd.DataFrame(data.columns.delete(0)) #為何有delete(0)呢？\n",
    "data_corr.columns = ['Feature']\n",
    "data_corr[\"Correlation\"] = pd.Series(logreg.coef_[0])\n",
    "data_corr.sort_values(by='Correlation', ascending=False)"
   ]
  },
  {
   "cell_type": "code",
   "execution_count": 35,
   "id": "4157ac72",
   "metadata": {
    "execution": {
     "iopub.execute_input": "2023-04-17T08:48:58.709221Z",
     "iopub.status.busy": "2023-04-17T08:48:58.708790Z",
     "iopub.status.idle": "2023-04-17T08:48:58.779207Z",
     "shell.execute_reply": "2023-04-17T08:48:58.778148Z"
    },
    "papermill": {
     "duration": 0.091698,
     "end_time": "2023-04-17T08:48:58.781614",
     "exception": false,
     "start_time": "2023-04-17T08:48:58.689916",
     "status": "completed"
    },
    "tags": []
   },
   "outputs": [
    {
     "data": {
      "text/plain": [
       "82.49"
      ]
     },
     "execution_count": 35,
     "metadata": {},
     "output_type": "execute_result"
    }
   ],
   "source": [
    "svc = SVC()\n",
    "svc.fit(X_train, Y_train)\n",
    "Y_pred = svc.predict(X_test)\n",
    "acc_svc = round(svc.score(X_train, Y_train) * 100, 2)\n",
    "acc_svc"
   ]
  },
  {
   "cell_type": "code",
   "execution_count": 36,
   "id": "18e2c2f5",
   "metadata": {
    "execution": {
     "iopub.execute_input": "2023-04-17T08:48:58.818577Z",
     "iopub.status.busy": "2023-04-17T08:48:58.818122Z",
     "iopub.status.idle": "2023-04-17T08:48:58.875997Z",
     "shell.execute_reply": "2023-04-17T08:48:58.874743Z"
    },
    "papermill": {
     "duration": 0.080505,
     "end_time": "2023-04-17T08:48:58.879146",
     "exception": false,
     "start_time": "2023-04-17T08:48:58.798641",
     "status": "completed"
    },
    "tags": []
   },
   "outputs": [
    {
     "data": {
      "text/plain": [
       "84.85"
      ]
     },
     "execution_count": 36,
     "metadata": {},
     "output_type": "execute_result"
    }
   ],
   "source": [
    "knn = KNeighborsClassifier(n_neighbors = 3)\n",
    "knn.fit(X_train, Y_train)\n",
    "Y_pred = knn.predict(X_test)\n",
    "acc_knn = round(knn.score(X_train, Y_train) * 100, 2)\n",
    "acc_knn"
   ]
  },
  {
   "cell_type": "code",
   "execution_count": 37,
   "id": "67e7390a",
   "metadata": {
    "execution": {
     "iopub.execute_input": "2023-04-17T08:48:58.916345Z",
     "iopub.status.busy": "2023-04-17T08:48:58.915215Z",
     "iopub.status.idle": "2023-04-17T08:48:58.930503Z",
     "shell.execute_reply": "2023-04-17T08:48:58.929210Z"
    },
    "papermill": {
     "duration": 0.036356,
     "end_time": "2023-04-17T08:48:58.933062",
     "exception": false,
     "start_time": "2023-04-17T08:48:58.896706",
     "status": "completed"
    },
    "tags": []
   },
   "outputs": [
    {
     "data": {
      "text/plain": [
       "80.36"
      ]
     },
     "execution_count": 37,
     "metadata": {},
     "output_type": "execute_result"
    }
   ],
   "source": [
    "gaussian = GaussianNB()\n",
    "gaussian.fit(X_train, Y_train)\n",
    "Y_pred = gaussian.predict(X_test)\n",
    "acc_gaussian = round(gaussian.score(X_train, Y_train) * 100, 2)\n",
    "acc_gaussian"
   ]
  },
  {
   "cell_type": "code",
   "execution_count": 38,
   "id": "79ca22a9",
   "metadata": {
    "execution": {
     "iopub.execute_input": "2023-04-17T08:48:58.971095Z",
     "iopub.status.busy": "2023-04-17T08:48:58.969965Z",
     "iopub.status.idle": "2023-04-17T08:48:58.986429Z",
     "shell.execute_reply": "2023-04-17T08:48:58.984774Z"
    },
    "papermill": {
     "duration": 0.038726,
     "end_time": "2023-04-17T08:48:58.989112",
     "exception": false,
     "start_time": "2023-04-17T08:48:58.950386",
     "status": "completed"
    },
    "tags": []
   },
   "outputs": [
    {
     "data": {
      "text/plain": [
       "77.55"
      ]
     },
     "execution_count": 38,
     "metadata": {},
     "output_type": "execute_result"
    }
   ],
   "source": [
    "perceptron = Perceptron()\n",
    "perceptron.fit(X_train, Y_train)\n",
    "Y_pred = perceptron.predict(X_test)\n",
    "acc_perceptron = round(perceptron.score(X_train, Y_train) * 100, 2)\n",
    "acc_perceptron"
   ]
  },
  {
   "cell_type": "code",
   "execution_count": 39,
   "id": "2a207ed0",
   "metadata": {
    "execution": {
     "iopub.execute_input": "2023-04-17T08:48:59.028841Z",
     "iopub.status.busy": "2023-04-17T08:48:59.027581Z",
     "iopub.status.idle": "2023-04-17T08:48:59.083987Z",
     "shell.execute_reply": "2023-04-17T08:48:59.082580Z"
    },
    "papermill": {
     "duration": 0.079874,
     "end_time": "2023-04-17T08:48:59.086865",
     "exception": false,
     "start_time": "2023-04-17T08:48:59.006991",
     "status": "completed"
    },
    "tags": []
   },
   "outputs": [
    {
     "data": {
      "text/plain": [
       "80.25"
      ]
     },
     "execution_count": 39,
     "metadata": {},
     "output_type": "execute_result"
    }
   ],
   "source": [
    "linear_svc = LinearSVC()\n",
    "linear_svc.fit(X_train, Y_train)\n",
    "Y_pred = linear_svc.predict(X_test)\n",
    "acc_linear_svc = round(linear_svc.score(X_train, Y_train) * 100, 2)\n",
    "acc_linear_svc"
   ]
  },
  {
   "cell_type": "code",
   "execution_count": 40,
   "id": "5328f3e4",
   "metadata": {
    "execution": {
     "iopub.execute_input": "2023-04-17T08:48:59.123855Z",
     "iopub.status.busy": "2023-04-17T08:48:59.123358Z",
     "iopub.status.idle": "2023-04-17T08:48:59.143256Z",
     "shell.execute_reply": "2023-04-17T08:48:59.141825Z"
    },
    "papermill": {
     "duration": 0.041532,
     "end_time": "2023-04-17T08:48:59.145926",
     "exception": false,
     "start_time": "2023-04-17T08:48:59.104394",
     "status": "completed"
    },
    "tags": []
   },
   "outputs": [
    {
     "data": {
      "text/plain": [
       "78.56"
      ]
     },
     "execution_count": 40,
     "metadata": {},
     "output_type": "execute_result"
    }
   ],
   "source": [
    "sgd = SGDClassifier()\n",
    "sgd.fit(X_train, Y_train)\n",
    "Y_pred = sgd.predict(X_test)\n",
    "acc_sgd = round(sgd.score(X_train, Y_train) * 100, 2)\n",
    "acc_sgd"
   ]
  },
  {
   "cell_type": "code",
   "execution_count": 41,
   "id": "de391f64",
   "metadata": {
    "execution": {
     "iopub.execute_input": "2023-04-17T08:48:59.183386Z",
     "iopub.status.busy": "2023-04-17T08:48:59.182989Z",
     "iopub.status.idle": "2023-04-17T08:48:59.199848Z",
     "shell.execute_reply": "2023-04-17T08:48:59.198555Z"
    },
    "papermill": {
     "duration": 0.038914,
     "end_time": "2023-04-17T08:48:59.202457",
     "exception": false,
     "start_time": "2023-04-17T08:48:59.163543",
     "status": "completed"
    },
    "tags": []
   },
   "outputs": [
    {
     "data": {
      "text/plain": [
       "85.86"
      ]
     },
     "execution_count": 41,
     "metadata": {},
     "output_type": "execute_result"
    }
   ],
   "source": [
    "decision_tree = DecisionTreeClassifier()\n",
    "decision_tree.fit(X_train, Y_train)\n",
    "Y_pred = decision_tree.predict(X_test)\n",
    "acc_decision_tree = round(decision_tree.score(X_train, Y_train) * 100, 2)\n",
    "acc_decision_tree"
   ]
  },
  {
   "cell_type": "code",
   "execution_count": 42,
   "id": "3cc730ca",
   "metadata": {
    "execution": {
     "iopub.execute_input": "2023-04-17T08:48:59.240309Z",
     "iopub.status.busy": "2023-04-17T08:48:59.239890Z",
     "iopub.status.idle": "2023-04-17T08:48:59.500035Z",
     "shell.execute_reply": "2023-04-17T08:48:59.498857Z"
    },
    "papermill": {
     "duration": 0.282013,
     "end_time": "2023-04-17T08:48:59.502659",
     "exception": false,
     "start_time": "2023-04-17T08:48:59.220646",
     "status": "completed"
    },
    "tags": []
   },
   "outputs": [
    {
     "data": {
      "text/plain": [
       "85.86"
      ]
     },
     "execution_count": 42,
     "metadata": {},
     "output_type": "execute_result"
    }
   ],
   "source": [
    "random_forest = RandomForestClassifier(n_estimators=100)\n",
    "random_forest.fit(X_train, Y_train)\n",
    "Y_pred = random_forest.predict(X_test)\n",
    "random_forest.score(X_train, Y_train)\n",
    "acc_random_forest = round(random_forest.score(X_train, Y_train) * 100, 2)\n",
    "acc_random_forest"
   ]
  },
  {
   "cell_type": "code",
   "execution_count": 43,
   "id": "c339cbe3",
   "metadata": {
    "execution": {
     "iopub.execute_input": "2023-04-17T08:48:59.539763Z",
     "iopub.status.busy": "2023-04-17T08:48:59.539353Z",
     "iopub.status.idle": "2023-04-17T08:48:59.554251Z",
     "shell.execute_reply": "2023-04-17T08:48:59.552715Z"
    },
    "papermill": {
     "duration": 0.036568,
     "end_time": "2023-04-17T08:48:59.556801",
     "exception": false,
     "start_time": "2023-04-17T08:48:59.520233",
     "status": "completed"
    },
    "tags": []
   },
   "outputs": [
    {
     "data": {
      "text/html": [
       "<div>\n",
       "<style scoped>\n",
       "    .dataframe tbody tr th:only-of-type {\n",
       "        vertical-align: middle;\n",
       "    }\n",
       "\n",
       "    .dataframe tbody tr th {\n",
       "        vertical-align: top;\n",
       "    }\n",
       "\n",
       "    .dataframe thead th {\n",
       "        text-align: right;\n",
       "    }\n",
       "</style>\n",
       "<table border=\"1\" class=\"dataframe\">\n",
       "  <thead>\n",
       "    <tr style=\"text-align: right;\">\n",
       "      <th></th>\n",
       "      <th>Model</th>\n",
       "      <th>Score</th>\n",
       "    </tr>\n",
       "  </thead>\n",
       "  <tbody>\n",
       "    <tr>\n",
       "      <th>3</th>\n",
       "      <td>Random Forest</td>\n",
       "      <td>85.86</td>\n",
       "    </tr>\n",
       "    <tr>\n",
       "      <th>8</th>\n",
       "      <td>Decision Tree</td>\n",
       "      <td>85.86</td>\n",
       "    </tr>\n",
       "    <tr>\n",
       "      <th>1</th>\n",
       "      <td>KNN</td>\n",
       "      <td>84.85</td>\n",
       "    </tr>\n",
       "    <tr>\n",
       "      <th>0</th>\n",
       "      <td>Support Vector Machines</td>\n",
       "      <td>82.49</td>\n",
       "    </tr>\n",
       "    <tr>\n",
       "      <th>2</th>\n",
       "      <td>Logistic Regression</td>\n",
       "      <td>80.58</td>\n",
       "    </tr>\n",
       "    <tr>\n",
       "      <th>4</th>\n",
       "      <td>Naive Bayes</td>\n",
       "      <td>80.36</td>\n",
       "    </tr>\n",
       "    <tr>\n",
       "      <th>7</th>\n",
       "      <td>Linear SVC</td>\n",
       "      <td>80.25</td>\n",
       "    </tr>\n",
       "    <tr>\n",
       "      <th>6</th>\n",
       "      <td>Stochastic Gradient Decent</td>\n",
       "      <td>78.56</td>\n",
       "    </tr>\n",
       "    <tr>\n",
       "      <th>5</th>\n",
       "      <td>Perceptron</td>\n",
       "      <td>77.55</td>\n",
       "    </tr>\n",
       "  </tbody>\n",
       "</table>\n",
       "</div>"
      ],
      "text/plain": [
       "                        Model  Score\n",
       "3               Random Forest  85.86\n",
       "8               Decision Tree  85.86\n",
       "1                         KNN  84.85\n",
       "0     Support Vector Machines  82.49\n",
       "2         Logistic Regression  80.58\n",
       "4                 Naive Bayes  80.36\n",
       "7                  Linear SVC  80.25\n",
       "6  Stochastic Gradient Decent  78.56\n",
       "5                  Perceptron  77.55"
      ]
     },
     "execution_count": 43,
     "metadata": {},
     "output_type": "execute_result"
    }
   ],
   "source": [
    "# models整理\n",
    "models = pd.DataFrame({\n",
    "    'Model': ['Support Vector Machines', 'KNN', 'Logistic Regression', \n",
    "              'Random Forest', 'Naive Bayes', 'Perceptron', \n",
    "              'Stochastic Gradient Decent', 'Linear SVC', \n",
    "              'Decision Tree'],\n",
    "    'Score': [acc_svc, acc_knn, acc_log, \n",
    "              acc_random_forest, acc_gaussian, acc_perceptron, \n",
    "              acc_sgd, acc_linear_svc, acc_decision_tree]})\n",
    "models.sort_values(by='Score', ascending=False)"
   ]
  },
  {
   "cell_type": "code",
   "execution_count": 44,
   "id": "5a995e93",
   "metadata": {
    "execution": {
     "iopub.execute_input": "2023-04-17T08:48:59.596150Z",
     "iopub.status.busy": "2023-04-17T08:48:59.595745Z",
     "iopub.status.idle": "2023-04-17T08:48:59.608598Z",
     "shell.execute_reply": "2023-04-17T08:48:59.607284Z"
    },
    "papermill": {
     "duration": 0.035821,
     "end_time": "2023-04-17T08:48:59.611539",
     "exception": false,
     "start_time": "2023-04-17T08:48:59.575718",
     "status": "completed"
    },
    "tags": []
   },
   "outputs": [],
   "source": [
    "submission = pd.DataFrame({'PassengerId':test['PassengerId'],'Survived':Y_pred})\n",
    "filename = 'Titanic Predictions 1.csv'\n",
    "submission.to_csv(filename,index=False)"
   ]
  }
 ],
 "metadata": {
  "kernelspec": {
   "display_name": "Python 3",
   "language": "python",
   "name": "python3"
  },
  "language_info": {
   "codemirror_mode": {
    "name": "ipython",
    "version": 3
   },
   "file_extension": ".py",
   "mimetype": "text/x-python",
   "name": "python",
   "nbconvert_exporter": "python",
   "pygments_lexer": "ipython3",
   "version": "3.7.12"
  },
  "papermill": {
   "default_parameters": {},
   "duration": 22.867766,
   "end_time": "2023-04-17T08:49:00.554436",
   "environment_variables": {},
   "exception": null,
   "input_path": "__notebook__.ipynb",
   "output_path": "__notebook__.ipynb",
   "parameters": {},
   "start_time": "2023-04-17T08:48:37.686670",
   "version": "2.4.0"
  }
 },
 "nbformat": 4,
 "nbformat_minor": 5
}
